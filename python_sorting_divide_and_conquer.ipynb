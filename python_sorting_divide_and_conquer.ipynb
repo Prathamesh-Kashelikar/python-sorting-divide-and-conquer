{
  "cells": [
    {
      "cell_type": "markdown",
      "metadata": {
        "id": "view-in-github",
        "colab_type": "text"
      },
      "source": [
        "<a href=\"https://colab.research.google.com/github/Prathamesh-Kashelikar/python-sorting-divide-and-conquer/blob/main/python_sorting_divide_and_conquer.ipynb\" target=\"_parent\"><img src=\"https://colab.research.google.com/assets/colab-badge.svg\" alt=\"Open In Colab\"/></a>"
      ]
    },
    {
      "cell_type": "code",
      "execution_count": 1,
      "id": "3733fa7f",
      "metadata": {
        "colab": {
          "base_uri": "https://localhost:8080/"
        },
        "id": "3733fa7f",
        "outputId": "199c1264-a5e1-4daf-ade0-6ba842e6a143"
      },
      "outputs": [
        {
          "output_type": "stream",
          "name": "stdout",
          "text": [
            "\u001b[?25l\r\u001b[K     |████▊                           | 10 kB 25.8 MB/s eta 0:00:01\r\u001b[K     |█████████▌                      | 20 kB 26.2 MB/s eta 0:00:01\r\u001b[K     |██████████████▎                 | 30 kB 13.2 MB/s eta 0:00:01\r\u001b[K     |███████████████████             | 40 kB 10.6 MB/s eta 0:00:01\r\u001b[K     |███████████████████████▉        | 51 kB 5.0 MB/s eta 0:00:01\r\u001b[K     |████████████████████████████▋   | 61 kB 5.9 MB/s eta 0:00:01\r\u001b[K     |████████████████████████████████| 68 kB 3.2 MB/s \n",
            "\u001b[?25h  Building wheel for uuid (setup.py) ... \u001b[?25l\u001b[?25hdone\n"
          ]
        }
      ],
      "source": [
        "# Jovian Commit Essentials\n",
        "# Please retain and execute this cell without modifying the contents for `jovian.commit` to work\n",
        "!pip install jovian --upgrade -q\n",
        "import jovian\n",
        "jovian.set_project('python-sorting-divide-and-conquer')\n",
        "jovian.set_colab_id('1lx_KzhltO81Va_lkKqTAYBaHiikkrkdu')"
      ]
    },
    {
      "cell_type": "markdown",
      "id": "fa8567bf",
      "metadata": {
        "id": "fa8567bf"
      },
      "source": [
        "# Merge Sort, Quicksort and Divide-n-Conquer Algorithms in Python\n",
        "\n",
        "### Part 3 of \"Data Structures and Algorithms in Python\"\n",
        "\n",
        "[Data Structures and Algorithms in Python](https://jovian.ai/learn/data-structures-and-algorithms-in-python) is a beginner-friendly introduction to common data structures (linked lists, stacks, queues, graphs) and algorithms (search, sorting, recursion, dynamic programming) in Python, designed to help you prepare for coding interviews and assessments. \n",
        "\n",
        "Earn a verified certificate of accomplishment for this course by signing up here: http://pythondsa.com. Ask questions, get help & participate in discussions on the [course community forum](https://jovian.ai/forum/c/data-structures-and-algorithms-in-python/78). \n"
      ]
    },
    {
      "cell_type": "markdown",
      "id": "b03adee1",
      "metadata": {
        "id": "b03adee1"
      },
      "source": [
        "### Prerequisites\n",
        "\n",
        "This course assumes very little background in programming and mathematics, and you can learn the required concepts here:\n",
        "\n",
        "- Basic programming with Python ([variables](https://jovian.ai/aakashns/first-steps-with-python), [data types](https://jovian.ai/aakashns/python-variables-and-data-types), [loops](https://jovian.ai/aakashns/python-branching-and-loops), [functions](https://jovian.ai/aakashns/python-functions-and-scope) etc.)\n",
        "- Some high school mathematics ([polynomials](https://www.youtube.com/watch?v=Vm7H0VTlIco), [vectors, matrices](https://www.youtube.com/watch?v=0oGJTQCy4cQ&list=PLSQl0a2vh4HCs4zPpOEdF2GuydqS90Yb6) and [probability](https://www.youtube.com/watch?v=uzkc-qNVoOk))\n",
        "- No prior knowledge of data structures or algorithms is required\n",
        "\n",
        "We'll cover any additional mathematical and theoretical concepts we need as we go along.\n",
        "\n",
        "\n"
      ]
    },
    {
      "cell_type": "markdown",
      "id": "09d9c561",
      "metadata": {
        "id": "09d9c561"
      },
      "source": [
        "### How to Run the Code\n",
        "\n",
        "The best way to learn the material is to execute the code and experiment with it yourself. This tutorial is an executable [Jupyter notebook](https://jupyter.org). You can _run_ this tutorial and experiment with the code examples in a couple of ways: *using free online resources* (recommended) or *on your computer*.\n",
        "\n",
        "#### Option 1: Running using free online resources (1-click, recommended)\n",
        "\n",
        "The easiest way to start executing the code is to click the **Run** button at the top of this page and select **Run on Binder**. You can also select \"Run on Colab\" or \"Run on Kaggle\", but you'll need to create an account on [Google Colab](https://colab.research.google.com) or [Kaggle](https://kaggle.com) to use these platforms.\n",
        "\n",
        "\n",
        "#### Option 2: Running on your computer locally\n",
        "\n",
        "To run the code on your computer locally, you'll need to set up [Python](https://www.python.org), download the notebook and install the required libraries. We recommend using the [Conda](https://docs.conda.io/projects/conda/en/latest/user-guide/install/) distribution of Python. Click the **Run** button at the top of this page, select the **Run Locally** option, and follow the instructions.\n",
        "\n"
      ]
    },
    {
      "cell_type": "markdown",
      "id": "9788807a",
      "metadata": {
        "id": "9788807a"
      },
      "source": [
        "## Problem \n",
        "\n",
        "\n",
        "In this notebook, we'll focus on solving the following problem:\n",
        "\n",
        "> **QUESTION 1**: You're working on a new feature on Jovian called \"Top Notebooks of the Week\". Write a function to sort a list of notebooks in decreasing order of likes. Keep in mind that up to millions of notebooks  can be created every week, so your function needs to be as efficient as possible.\n",
        "\n",
        "\n",
        "The problem of sorting a list of objects comes up over and over in computer science and software development, and it's important to understand common approaches for sorting, and the trade-offs they offer. Before we solve the above problem, we'll solve a simplified version of the problem:\n",
        "\n",
        "> **QUESTION 2**: Write a program to sort a list of numbers.\n",
        "\n",
        "\n",
        "\"Sorting\" usually refers to \"sorting in ascending order\", unless specified otherwise."
      ]
    },
    {
      "cell_type": "markdown",
      "id": "cf3d3aba",
      "metadata": {
        "id": "cf3d3aba"
      },
      "source": [
        "## The Method\n",
        "\n",
        "\n",
        "Here's a systematic strategy we'll apply for solving problems:\n",
        "\n",
        "1. State the problem clearly. Identify the input & output formats.\n",
        "2. Come up with some example inputs & outputs. Try to cover all edge cases.\n",
        "3. Come up with a correct solution for the problem. State it in plain English.\n",
        "4. Implement the solution and test it using example inputs. Fix bugs, if any.\n",
        "5. Analyze the algorithm's complexity and identify inefficiencies, if any.\n",
        "6. Apply the right technique to overcome the inefficiency. Repeat steps 3 to 6.\n",
        "\n",
        "\n"
      ]
    },
    {
      "cell_type": "markdown",
      "id": "3edc348f",
      "metadata": {
        "id": "3edc348f"
      },
      "source": [
        "## 1. State the problem clearly. Identify the input & output formats.\n",
        "\n",
        "\n",
        "#### Problem\n",
        "\n",
        "> We need to write a function to sort a list of numbers in increasing order.\n",
        "\n",
        "#### Input\n",
        "\n",
        "1. `nums`: A list of numbers e.g. `[4, 2, 6, 3, 4, 6, 2, 1]` \n",
        "\n",
        "#### Output\n",
        "\n",
        "2. `sorted_nums`: The sorted version of `nums` e.g. `[1, 2, 2, 3, 4, 4, 6, 6]`\n",
        "\n",
        "\n",
        "The signature of our function would be as follows:"
      ]
    },
    {
      "cell_type": "code",
      "execution_count": 2,
      "id": "eea617fa",
      "metadata": {
        "id": "eea617fa"
      },
      "outputs": [],
      "source": [
        "def sort(nums):\n",
        "    pass"
      ]
    },
    {
      "cell_type": "markdown",
      "id": "eed796a8",
      "metadata": {
        "id": "eed796a8"
      },
      "source": [
        "## 2. Come up with some example inputs & outputs. \n",
        "\n",
        "Here are some scenarios we may want to test out:\n",
        "\n",
        "1. Some lists of numbers in random order.\n",
        "2. A list that's already sorted.\n",
        "3. A list that's sorted in descending order.\n",
        "4. A list containing repeating elements.\n",
        "5. An empty list. \n",
        "6. A list containing just one element.\n",
        "7. A list containing one element repeated many times.\n",
        "8. A really long list.\n",
        "\n",
        "Let's create some test cases for these scenarios. We'll represent each test case as a dictionary for easier automated testing."
      ]
    },
    {
      "cell_type": "code",
      "execution_count": 3,
      "id": "9c751b52",
      "metadata": {
        "id": "9c751b52"
      },
      "outputs": [],
      "source": [
        "# List of numbers in random order\n",
        "test0 = {\n",
        "    'input': {\n",
        "        'nums': [4, 2, 6, 3, 4, 6, 2, 1]\n",
        "    },\n",
        "    'output': [1, 2, 2, 3, 4, 4, 6, 6]\n",
        "}"
      ]
    },
    {
      "cell_type": "code",
      "execution_count": 4,
      "id": "3f99c54e",
      "metadata": {
        "id": "3f99c54e"
      },
      "outputs": [],
      "source": [
        "# List of numbers in random order\n",
        "test1 = {\n",
        "    'input': {\n",
        "        'nums': [5, 2, 6, 1, 23, 7, -12, 12, -243, 0]\n",
        "    },\n",
        "    'output': [-243, -12, 0, 1, 2, 5, 6, 7, 12, 23]\n",
        "}"
      ]
    },
    {
      "cell_type": "code",
      "execution_count": 5,
      "id": "e913f0f6",
      "metadata": {
        "id": "e913f0f6"
      },
      "outputs": [],
      "source": [
        "# A list that's already sorted\n",
        "test2 = {\n",
        "    'input': {\n",
        "        'nums': [3, 5, 6, 8, 9, 10, 99]\n",
        "    },\n",
        "    'output': [3, 5, 6, 8, 9, 10, 99]\n",
        "}"
      ]
    },
    {
      "cell_type": "code",
      "execution_count": 6,
      "id": "8b0f4c87",
      "metadata": {
        "id": "8b0f4c87"
      },
      "outputs": [],
      "source": [
        "# A list that's sorted in descending order\n",
        "test3 = {\n",
        "    'input': {\n",
        "        'nums': [99, 10, 9, 8, 6, 5, 3]\n",
        "    },\n",
        "    'output': [3, 5, 6, 8, 9, 10, 99]\n",
        "}"
      ]
    },
    {
      "cell_type": "code",
      "execution_count": 7,
      "id": "924c8a13",
      "metadata": {
        "id": "924c8a13"
      },
      "outputs": [],
      "source": [
        "# A list containing repeating elements\n",
        "test4 = {\n",
        "    'input': {\n",
        "        'nums': [5, -12, 2, 6, 1, 23, 7, 7, -12, 6, 12, 1, -243, 1, 0]\n",
        "    },\n",
        "    'output': [-243, -12, -12, 0, 1, 1, 1, 2, 5, 6, 6, 7, 7, 12, 23]\n",
        "}"
      ]
    },
    {
      "cell_type": "code",
      "execution_count": 8,
      "id": "d6d0cb7e",
      "metadata": {
        "id": "d6d0cb7e"
      },
      "outputs": [],
      "source": [
        "# An empty list \n",
        "test5 = {\n",
        "    'input': {\n",
        "        'nums': []\n",
        "    },\n",
        "    'output': []\n",
        "}"
      ]
    },
    {
      "cell_type": "code",
      "execution_count": 9,
      "id": "ed7c5b6b",
      "metadata": {
        "id": "ed7c5b6b"
      },
      "outputs": [],
      "source": [
        "# A list containing just one element\n",
        "test6 = {\n",
        "    'input': {\n",
        "        'nums': [23]\n",
        "    },\n",
        "    'output': [23]\n",
        "}"
      ]
    },
    {
      "cell_type": "code",
      "execution_count": 10,
      "id": "27e8cbce",
      "metadata": {
        "id": "27e8cbce"
      },
      "outputs": [],
      "source": [
        "# A list containing one element repeated many times\n",
        "test7 = {\n",
        "    'input': {\n",
        "        'nums': [42, 42, 42, 42, 42, 42, 42]\n",
        "    },\n",
        "    'output': [42, 42, 42, 42, 42, 42, 42]\n",
        "}"
      ]
    },
    {
      "cell_type": "markdown",
      "id": "e482ae64",
      "metadata": {
        "id": "e482ae64"
      },
      "source": [
        "To create the final test case (a really long list), we can start with a sorted list created using `range` and shuffle it to create the input."
      ]
    },
    {
      "cell_type": "code",
      "execution_count": 11,
      "id": "3f1b109a",
      "metadata": {
        "id": "3f1b109a"
      },
      "outputs": [],
      "source": [
        "import random\n",
        "\n",
        "in_list = list(range(10000))\n",
        "out_list = list(range(10000))\n",
        "random.shuffle(in_list)\n",
        "\n",
        "test8 = {\n",
        "    'input': {\n",
        "        'nums': in_list\n",
        "    },\n",
        "    'output': out_list\n",
        "}"
      ]
    },
    {
      "cell_type": "code",
      "execution_count": 12,
      "id": "1ce47ef8",
      "metadata": {
        "id": "1ce47ef8"
      },
      "outputs": [],
      "source": [
        "tests = [test0, test1, test2, test3, test4, test5, test6, test7, test8]"
      ]
    },
    {
      "cell_type": "markdown",
      "id": "ed28d994",
      "metadata": {
        "id": "ed28d994"
      },
      "source": [
        "## 3. Come up with a correct solution. State it in plain English.\n",
        "\n",
        "It's easy to come up with a correct solution. Here's one: \n",
        "\n",
        "1. Iterate over the list of numbers, starting from the left\n",
        "2. Compare each number with the number that follows it\n",
        "3. If the number is greater than the one that follows it, swap the two elements\n",
        "4. Repeat steps 1 to 3 till the list is sorted.\n",
        "\n",
        "We need to repeat steps 1 to 3 at most `n-1` times to ensure that the array is sorted. Can you explain why? Hint: After one iteration, the largest number in the list.\n",
        "\n",
        "This method is called **bubble sort**, as it causes smaller elements to *bubble* to the top and larger to *sink* to the bottom. Here's a visual representation of the process:\n",
        "\n",
        "![](https://upload.wikimedia.org/wikipedia/commons/c/c8/Bubble-sort-example-300px.gif)\n",
        "\n"
      ]
    },
    {
      "cell_type": "markdown",
      "id": "c3b78a49",
      "metadata": {
        "id": "c3b78a49"
      },
      "source": [
        "## 4. Implement the solution and test it using example inputs.\n",
        "\n",
        "The implementation is straightforward. We'll create a copy of the list inside our function, to avoid changing it while sorting."
      ]
    },
    {
      "cell_type": "code",
      "execution_count": 13,
      "id": "a6b79ee7",
      "metadata": {
        "id": "a6b79ee7"
      },
      "outputs": [],
      "source": [
        "def bubble_sort(nums):\n",
        "    # Create a copy of the list, to avoid changing it\n",
        "    nums = list(nums)\n",
        "    \n",
        "    # 4. Repeat the process n-1 times\n",
        "    for _ in range(len(nums) - 1):\n",
        "        \n",
        "        # 1. Iterate over the array (except last element)\n",
        "        for i in range(len(nums) - 1):\n",
        "            \n",
        "            # 2. Compare the number with  \n",
        "            if nums[i] > nums[i+1]:\n",
        "                \n",
        "                # 3. Swap the two elements\n",
        "                nums[i], nums[i+1] = nums[i+1], nums[i]\n",
        "    \n",
        "    # Return the sorted list\n",
        "    return nums"
      ]
    },
    {
      "cell_type": "markdown",
      "id": "57f7359c",
      "metadata": {
        "id": "57f7359c"
      },
      "source": [
        "Notice how we're a tuple assignment to swap two elements in a single line of code."
      ]
    },
    {
      "cell_type": "code",
      "execution_count": 14,
      "id": "aa82fac7",
      "metadata": {
        "colab": {
          "base_uri": "https://localhost:8080/"
        },
        "id": "aa82fac7",
        "outputId": "9ba3d154-ee9f-4d51-c7e1-41e723930c23"
      },
      "outputs": [
        {
          "output_type": "execute_result",
          "data": {
            "text/plain": [
              "(3, 2)"
            ]
          },
          "metadata": {},
          "execution_count": 14
        }
      ],
      "source": [
        "x, y = 2, 3\n",
        "x, y = y, x\n",
        "x, y"
      ]
    },
    {
      "cell_type": "markdown",
      "id": "8c07be38",
      "metadata": {
        "id": "8c07be38"
      },
      "source": [
        "Let's test it with an example."
      ]
    },
    {
      "cell_type": "code",
      "execution_count": 15,
      "id": "0aa215f5",
      "metadata": {
        "colab": {
          "base_uri": "https://localhost:8080/"
        },
        "id": "0aa215f5",
        "outputId": "8f9a184a-8d75-42bc-d9aa-5c6247f73c0c"
      },
      "outputs": [
        {
          "output_type": "stream",
          "name": "stdout",
          "text": [
            "Input: [4, 2, 6, 3, 4, 6, 2, 1]\n",
            "Expected output: [1, 2, 2, 3, 4, 4, 6, 6]\n",
            "Actual output: [1, 2, 2, 3, 4, 4, 6, 6]\n",
            "Match: True\n"
          ]
        }
      ],
      "source": [
        "nums0, output0 = test0['input']['nums'], test0['output']\n",
        "\n",
        "print('Input:', nums0)\n",
        "print('Expected output:', output0)\n",
        "result0 = bubble_sort(nums0)\n",
        "print('Actual output:', result0)\n",
        "print('Match:', result0 == output0)"
      ]
    },
    {
      "cell_type": "code",
      "execution_count": 16,
      "id": "1992f5d9",
      "metadata": {
        "colab": {
          "base_uri": "https://localhost:8080/"
        },
        "id": "1992f5d9",
        "outputId": "b57cb03f-0d29-426e-8ff8-bc4eed5a5d3e"
      },
      "outputs": [
        {
          "output_type": "execute_result",
          "data": {
            "text/plain": [
              "True"
            ]
          },
          "metadata": {},
          "execution_count": 16
        }
      ],
      "source": [
        "result0 == output0"
      ]
    },
    {
      "cell_type": "markdown",
      "id": "e0f7488d",
      "metadata": {
        "id": "e0f7488d"
      },
      "source": [
        "We can evaluate all the cases together using the `evaluate_test_cases` helper function from the `jovian` library."
      ]
    },
    {
      "cell_type": "code",
      "execution_count": 17,
      "id": "c0435ad0",
      "metadata": {
        "id": "c0435ad0"
      },
      "outputs": [],
      "source": [
        "!pip install jovian --upgrade --quiet"
      ]
    },
    {
      "cell_type": "code",
      "execution_count": 18,
      "id": "f309783b",
      "metadata": {
        "id": "f309783b"
      },
      "outputs": [],
      "source": [
        "from jovian.pythondsa import evaluate_test_cases"
      ]
    },
    {
      "cell_type": "code",
      "execution_count": 19,
      "id": "c34ebfd4",
      "metadata": {
        "scrolled": true,
        "colab": {
          "base_uri": "https://localhost:8080/"
        },
        "id": "c34ebfd4",
        "outputId": "93b6ee62-853d-4930-d492-35031a420902"
      },
      "outputs": [
        {
          "output_type": "stream",
          "name": "stdout",
          "text": [
            "\n",
            "\u001b[1mTEST CASE #0\u001b[0m\n",
            "\n",
            "Input:\n",
            "{'nums': [4, 2, 6, 3, 4, 6, 2, 1]}\n",
            "\n",
            "Expected Output:\n",
            "[1, 2, 2, 3, 4, 4, 6, 6]\n",
            "\n",
            "\n",
            "Actual Output:\n",
            "[1, 2, 2, 3, 4, 4, 6, 6]\n",
            "\n",
            "Execution Time:\n",
            "0.017 ms\n",
            "\n",
            "Test Result:\n",
            "\u001b[92mPASSED\u001b[0m\n",
            "\n",
            "\n",
            "\u001b[1mTEST CASE #1\u001b[0m\n",
            "\n",
            "Input:\n",
            "{'nums': [5, 2, 6, 1, 23, 7, -12, 12, -243, 0]}\n",
            "\n",
            "Expected Output:\n",
            "[-243, -12, 0, 1, 2, 5, 6, 7, 12, 23]\n",
            "\n",
            "\n",
            "Actual Output:\n",
            "[-243, -12, 0, 1, 2, 5, 6, 7, 12, 23]\n",
            "\n",
            "Execution Time:\n",
            "0.021 ms\n",
            "\n",
            "Test Result:\n",
            "\u001b[92mPASSED\u001b[0m\n",
            "\n",
            "\n",
            "\u001b[1mTEST CASE #2\u001b[0m\n",
            "\n",
            "Input:\n",
            "{'nums': [3, 5, 6, 8, 9, 10, 99]}\n",
            "\n",
            "Expected Output:\n",
            "[3, 5, 6, 8, 9, 10, 99]\n",
            "\n",
            "\n",
            "Actual Output:\n",
            "[3, 5, 6, 8, 9, 10, 99]\n",
            "\n",
            "Execution Time:\n",
            "0.009 ms\n",
            "\n",
            "Test Result:\n",
            "\u001b[92mPASSED\u001b[0m\n",
            "\n",
            "\n",
            "\u001b[1mTEST CASE #3\u001b[0m\n",
            "\n",
            "Input:\n",
            "{'nums': [99, 10, 9, 8, 6, 5, 3]}\n",
            "\n",
            "Expected Output:\n",
            "[3, 5, 6, 8, 9, 10, 99]\n",
            "\n",
            "\n",
            "Actual Output:\n",
            "[3, 5, 6, 8, 9, 10, 99]\n",
            "\n",
            "Execution Time:\n",
            "0.012 ms\n",
            "\n",
            "Test Result:\n",
            "\u001b[92mPASSED\u001b[0m\n",
            "\n",
            "\n",
            "\u001b[1mTEST CASE #4\u001b[0m\n",
            "\n",
            "Input:\n",
            "{'nums': [5, -12, 2, 6, 1, 23, 7, 7, -12, 6, 12, 1, -243, 1, 0]}\n",
            "\n",
            "Expected Output:\n",
            "[-243, -12, -12, 0, 1, 1, 1, 2, 5, 6, 6, 7, 7, 12, 23]\n",
            "\n",
            "\n",
            "Actual Output:\n",
            "[-243, -12, -12, 0, 1, 1, 1, 2, 5, 6, 6, 7, 7, 12, 23]\n",
            "\n",
            "Execution Time:\n",
            "0.073 ms\n",
            "\n",
            "Test Result:\n",
            "\u001b[92mPASSED\u001b[0m\n",
            "\n",
            "\n",
            "\u001b[1mTEST CASE #5\u001b[0m\n",
            "\n",
            "Input:\n",
            "{'nums': []}\n",
            "\n",
            "Expected Output:\n",
            "[]\n",
            "\n",
            "\n",
            "Actual Output:\n",
            "[]\n",
            "\n",
            "Execution Time:\n",
            "0.006 ms\n",
            "\n",
            "Test Result:\n",
            "\u001b[92mPASSED\u001b[0m\n",
            "\n",
            "\n",
            "\u001b[1mTEST CASE #6\u001b[0m\n",
            "\n",
            "Input:\n",
            "{'nums': [23]}\n",
            "\n",
            "Expected Output:\n",
            "[23]\n",
            "\n",
            "\n",
            "Actual Output:\n",
            "[23]\n",
            "\n",
            "Execution Time:\n",
            "0.004 ms\n",
            "\n",
            "Test Result:\n",
            "\u001b[92mPASSED\u001b[0m\n",
            "\n",
            "\n",
            "\u001b[1mTEST CASE #7\u001b[0m\n",
            "\n",
            "Input:\n",
            "{'nums': [42, 42, 42, 42, 42, 42, 42]}\n",
            "\n",
            "Expected Output:\n",
            "[42, 42, 42, 42, 42, 42, 42]\n",
            "\n",
            "\n",
            "Actual Output:\n",
            "[42, 42, 42, 42, 42, 42, 42]\n",
            "\n",
            "Execution Time:\n",
            "0.013 ms\n",
            "\n",
            "Test Result:\n",
            "\u001b[92mPASSED\u001b[0m\n",
            "\n",
            "\n",
            "\u001b[1mTEST CASE #8\u001b[0m\n",
            "\n",
            "Input:\n",
            "{'nums': [4194, 2979, 3193, 2730, 4873, 8165, 568, 8167, 2121, 9979, 24, 176, 4584, 6750, 2141, 5335...\n",
            "\n",
            "Expected Output:\n",
            "[0, 1, 2, 3, 4, 5, 6, 7, 8, 9, 10, 11, 12, 13, 14, 15, 16, 17, 18, 19, 20, 21, 22, 23, 24, 25, 26, 2...\n",
            "\n",
            "\n",
            "Actual Output:\n",
            "[0, 1, 2, 3, 4, 5, 6, 7, 8, 9, 10, 11, 12, 13, 14, 15, 16, 17, 18, 19, 20, 21, 22, 23, 24, 25, 26, 2...\n",
            "\n",
            "Execution Time:\n",
            "20304.212 ms\n",
            "\n",
            "Test Result:\n",
            "\u001b[92mPASSED\u001b[0m\n",
            "\n",
            "\n",
            "\u001b[1mSUMMARY\u001b[0m\n",
            "\n",
            "TOTAL: 9, \u001b[92mPASSED\u001b[0m: 9, \u001b[91mFAILED\u001b[0m: 0\n"
          ]
        }
      ],
      "source": [
        "results = evaluate_test_cases(bubble_sort, tests)"
      ]
    },
    {
      "cell_type": "markdown",
      "id": "74b26d37",
      "metadata": {
        "id": "74b26d37"
      },
      "source": [
        "Great, looks like all our test cases passed! Although the last test case (a list of 10,000 numbers) took about 12 seconds to execute. "
      ]
    },
    {
      "cell_type": "markdown",
      "id": "f3421506",
      "metadata": {
        "id": "f3421506"
      },
      "source": [
        "## 5. Analyze the algorithm's complexity and identify inefficiencies\n",
        "\n",
        "The core operations in bubble sort are \"compare\" and \"swap\". To analyze the time complexity, we can simply count the total number of comparisons being made, since the total number of swaps will be less than or equal to the total number of comparisons (can you see why?).\n",
        "\n",
        "```\n",
        "for _ in range(len(nums) - 1):\n",
        "    for i in range(len(nums) - 1):\n",
        "        if nums[i] > nums[i+1]:\n",
        "            nums[i], nums[i+1] = nums[i+1], nums[i]\n",
        "```\n",
        "\n",
        "There are two loops, each of length `n-1`, where `n` is the number of elements in `nums`. So the total number of comparisons is $(n-1)*(n-1)$ i.e. $(n-1)^2$ i.e. $n^2 - 2n + 1$. \n",
        "\n",
        "Expressing this in the Big O notation, we can conclude that the time complexity of bubble sort is $O(n^2)$ (also known as quadratic complexity).\n",
        "\n",
        "**Exercise:** Verify that the bubble sort requires $O(1)$ additional space.\n",
        "\n",
        "The space complexity of bubble sort is $O(n)$, even thought it requires only constant/zero additional space, because the space required to store the inputs is also considered while calculating space complexity.\n",
        "\n",
        "As we saw from the last test, a list of 10,000 numbers takes about 12 seconds to be sorted using bubble sort. A list of ten times the size will 100 times longer i.e. about 20 minutes to be sorted, which is quite inefficient. A list of a million elements would take close to 2 days to be sorted.\n",
        "\n",
        "\n",
        "The inefficiency in bubble sort comes from the fact that we're shifting elements by at most one position at a time.\n",
        "\n",
        "![](https://upload.wikimedia.org/wikipedia/commons/c/c8/Bubble-sort-example-300px.gif)\n"
      ]
    },
    {
      "cell_type": "markdown",
      "id": "478d0600",
      "metadata": {
        "id": "478d0600"
      },
      "source": [
        "### Insertion Sort\n",
        "\n",
        "Before we look at explore more efficient sorting techniques, here's another simple sorting technique called insertion sort, where we keep the initial portion of the array sorted and insert the remaining elements one by one at the right position."
      ]
    },
    {
      "cell_type": "code",
      "execution_count": 20,
      "id": "277e17af",
      "metadata": {
        "id": "277e17af"
      },
      "outputs": [],
      "source": [
        "def insertion_sort(nums):\n",
        "    nums = list(nums)\n",
        "    for i in range(len(nums)):\n",
        "        cur = nums.pop(i)\n",
        "        j = i-1\n",
        "        while j >=0 and nums[j] > cur:\n",
        "            j -= 1\n",
        "        nums.insert(j+1, cur)\n",
        "    return nums            "
      ]
    },
    {
      "cell_type": "code",
      "execution_count": 21,
      "id": "d05963c0",
      "metadata": {
        "colab": {
          "base_uri": "https://localhost:8080/"
        },
        "id": "d05963c0",
        "outputId": "707c57b4-b4bd-4438-8fb9-c1aa4b33ee8c"
      },
      "outputs": [
        {
          "output_type": "stream",
          "name": "stdout",
          "text": [
            "Input: [4, 2, 6, 3, 4, 6, 2, 1]\n",
            "Expected output: [1, 2, 2, 3, 4, 4, 6, 6]\n",
            "Actual output: [1, 2, 2, 3, 4, 4, 6, 6]\n",
            "Match: True\n"
          ]
        }
      ],
      "source": [
        "nums0, output0 = test0['input']['nums'], test0['output']\n",
        "\n",
        "print('Input:', nums0)\n",
        "print('Expected output:', output0)\n",
        "result0 = insertion_sort(nums0)\n",
        "print('Actual output:', result0)\n",
        "print('Match:', result0 == output0)"
      ]
    },
    {
      "cell_type": "markdown",
      "id": "9ddbc042",
      "metadata": {
        "id": "9ddbc042"
      },
      "source": [
        "**Exercises**:\n",
        "\n",
        "1. Read the source code of the `insertion_sort` function and describe the algorithm in plain English. Reading source code is an essential skill for software development.\n",
        "2. Determine the time and space complexity of insertion sort. Is it any better than bubble sort? Why or why not?"
      ]
    },
    {
      "cell_type": "markdown",
      "id": "2bef65c8",
      "metadata": {
        "id": "2bef65c8"
      },
      "source": [
        "### Save and upload your work to Jovian\n",
        "\n",
        "Whether you're running this Jupyter notebook online or on your computer, it's essential to save your work from time to time. You can continue working on a saved notebook later or share it with friends and colleagues to let them execute your code. [Jovian](https://jovian.ai/platform-features) offers an easy way of saving and sharing your Jupyter notebooks online."
      ]
    },
    {
      "cell_type": "code",
      "execution_count": 22,
      "id": "ea41ea1c",
      "metadata": {
        "id": "ea41ea1c"
      },
      "outputs": [],
      "source": [
        "!pip install jovian --upgrade --quiet"
      ]
    },
    {
      "cell_type": "code",
      "execution_count": 24,
      "id": "aa2291b6",
      "metadata": {
        "id": "aa2291b6"
      },
      "outputs": [],
      "source": [
        "import jovian"
      ]
    },
    {
      "cell_type": "code",
      "execution_count": 25,
      "id": "1a21b244",
      "metadata": {
        "colab": {
          "base_uri": "https://localhost:8080/",
          "height": 142
        },
        "id": "1a21b244",
        "outputId": "f2309923-5943-4a59-d061-ee45d55f7f2b"
      },
      "outputs": [
        {
          "output_type": "stream",
          "name": "stdout",
          "text": [
            "[jovian] Detected Colab notebook...\u001b[0m\n",
            "[jovian] Please enter your API key ( from https://jovian.ai/ ):\u001b[0m\n",
            "API KEY: ··········\n",
            "[jovian] Uploading colab notebook to Jovian...\u001b[0m\n",
            "Committed successfully! https://jovian.ai/prathamesh-kashelikar/python-sorting-divide-and-conquer\n"
          ]
        },
        {
          "output_type": "execute_result",
          "data": {
            "text/plain": [
              "'https://jovian.ai/prathamesh-kashelikar/python-sorting-divide-and-conquer'"
            ],
            "application/vnd.google.colaboratory.intrinsic+json": {
              "type": "string"
            }
          },
          "metadata": {},
          "execution_count": 25
        }
      ],
      "source": [
        "jovian.commit()"
      ]
    },
    {
      "cell_type": "markdown",
      "id": "139a5244",
      "metadata": {
        "id": "139a5244"
      },
      "source": [
        "## 6. Apply the right technique to overcome the inefficiency. Repeat Steps 3 to 6.\n",
        "\n",
        "\n",
        "To performing sorting more efficiently, we'll apply a strategy called **Divide and Conquer**, which has the following general steps:\n",
        "\n",
        "1. Divide the inputs into two roughly equal parts.\n",
        "2. Recursively solve the problem individually for each of the two parts.\n",
        "3. Combine the results to solve the problem for the original inputs.\n",
        "4. Include terminating conditions for small or indivisible inputs.\n",
        "\n",
        "Here's a visual representation of the strategy:\n",
        "\n",
        "![](https://www.educative.io/api/edpresso/shot/5327356208087040/image/6475288173084672)\n",
        "\n",
        "### Merge Sort\n",
        "\n",
        "Following a visual representation of the divide and conquer applied for sorting numbers. This algorithm is known as merge sort:\n",
        "\n",
        "\n",
        "<img src=\"https://upload.wikimedia.org/wikipedia/commons/thumb/e/e6/Merge_sort_algorithm_diagram.svg/2560px-Merge_sort_algorithm_diagram.svg.png\" width=\"480\">\n",
        "\n"
      ]
    },
    {
      "cell_type": "markdown",
      "id": "bc3bb563",
      "metadata": {
        "id": "bc3bb563"
      },
      "source": [
        "## 7. Come up with a correct solution. State it in Plain English.\n",
        "\n",
        "Here's a step-by-step description for merge sort:\n",
        "\n",
        "1. If the input list is empty or contains just one element, it is already sorted. Return it.\n",
        "2. If not, divide the list of numbers into two roughly equal parts.\n",
        "3. Sort each part recursively using the merge sort algorithm. You'll get back two sorted lists.\n",
        "4. Merge the two sorted lists to get a single sorted list\n",
        "\n",
        "Can you guess how the \"merge\" operation step 4 works? Hint: Watch this animation: https://youtu.be/GW0USDwhBgo?t=28\n",
        "\n",
        "> **QUESTION 3**: Write a function to merge two sorted arrays.\n",
        "\n",
        "\n",
        "Try to explain how the merge operation works in your own words below:\n",
        "\n",
        "1. ???\n",
        "2. ???\n",
        "3. ???\n",
        "4. ???\n"
      ]
    },
    {
      "cell_type": "markdown",
      "id": "405e8e1b",
      "metadata": {
        "id": "405e8e1b"
      },
      "source": [
        "## 8. Implement the solution and test it using example inputs\n",
        "\n",
        "Let's implement the merge sort algorithm assuming we already have a helper function called `merge` for merging two sorted arrays."
      ]
    },
    {
      "cell_type": "code",
      "execution_count": 26,
      "id": "0b74b347",
      "metadata": {
        "id": "0b74b347"
      },
      "outputs": [],
      "source": [
        "def merge_sort(nums):\n",
        "    # Terminating condition (list of 0 or 1 elements)\n",
        "    if len(nums) <= 1:\n",
        "        return nums\n",
        "    \n",
        "    # Get the midpoint\n",
        "    mid = len(nums) // 2\n",
        "    \n",
        "    # Split the list into two halves\n",
        "    left = nums[:mid]\n",
        "    right = nums[mid:]\n",
        "    \n",
        "    # Solve the problem for each half recursively\n",
        "    left_sorted, right_sorted = merge_sort(left), merge_sort(right)\n",
        "    \n",
        "    # Combine the results of the two halves\n",
        "    sorted_nums =  merge(left_sorted, right_sorted)\n",
        "    \n",
        "    return sorted_nums"
      ]
    },
    {
      "cell_type": "markdown",
      "id": "de5821ef",
      "metadata": {
        "id": "de5821ef"
      },
      "source": [
        "Two merge two sorted arrays, we can repeatedly compare the two least elements of each array, and copy over the smaller one into a new array.\n",
        "\n",
        "Here's a visual representation of the merge operation:\n",
        "\n",
        "<img src=\"https://i.imgur.com/XeEpa0U.png\" width=\"480\">\n",
        "\n",
        "\n"
      ]
    },
    {
      "cell_type": "code",
      "execution_count": 27,
      "id": "51a46b4a",
      "metadata": {
        "id": "51a46b4a"
      },
      "outputs": [],
      "source": [
        "def merge(nums1, nums2):    \n",
        "    # List to store the results \n",
        "    merged = []\n",
        "    \n",
        "    # Indices for iteration\n",
        "    i, j = 0, 0\n",
        "    \n",
        "    # Loop over the two lists\n",
        "    while i < len(nums1) and j < len(nums2):        \n",
        "        \n",
        "        # Include the smaller element in the result and move to next element\n",
        "        if nums1[i] <= nums2[j]:\n",
        "            merged.append(nums1[i])\n",
        "            i += 1 \n",
        "        else:\n",
        "            merged.append(nums2[j])\n",
        "            j += 1\n",
        "    \n",
        "    # Get the remaining parts\n",
        "    nums1_tail = nums1[i:]\n",
        "    nums2_tail = nums2[j:]\n",
        "    \n",
        "    # Return the final merged array\n",
        "    return merged + nums1_tail + nums2_tail"
      ]
    },
    {
      "cell_type": "markdown",
      "id": "9aebeb52",
      "metadata": {
        "id": "9aebeb52"
      },
      "source": [
        "Let's test the merge operation, before we test merge sort. "
      ]
    },
    {
      "cell_type": "code",
      "execution_count": 28,
      "id": "c6a06410",
      "metadata": {
        "colab": {
          "base_uri": "https://localhost:8080/"
        },
        "id": "c6a06410",
        "outputId": "e69cd6e5-71af-4102-a9ee-58c32bf596fb"
      },
      "outputs": [
        {
          "output_type": "stream",
          "name": "stdout",
          "text": [
            "CPU times: user 10 µs, sys: 0 ns, total: 10 µs\n",
            "Wall time: 13.4 µs\n"
          ]
        },
        {
          "output_type": "execute_result",
          "data": {
            "text/plain": [
              "[-1, 0, 1, 2, 3, 4, 7, 8, 9, 11, 12]"
            ]
          },
          "metadata": {},
          "execution_count": 28
        }
      ],
      "source": [
        "%%time\n",
        "merge([1, 4, 7, 9, 11], [-1, 0, 2, 3, 8, 12])"
      ]
    },
    {
      "cell_type": "markdown",
      "id": "72caca0f",
      "metadata": {
        "id": "72caca0f"
      },
      "source": [
        "It seems to work as expected. We can now test the `merge_sort` function."
      ]
    },
    {
      "cell_type": "code",
      "execution_count": 29,
      "id": "96bafc21",
      "metadata": {
        "colab": {
          "base_uri": "https://localhost:8080/"
        },
        "id": "96bafc21",
        "outputId": "3abf57e0-0d1b-4df7-c1ca-1e0eae49317e"
      },
      "outputs": [
        {
          "output_type": "stream",
          "name": "stdout",
          "text": [
            "Input: [4, 2, 6, 3, 4, 6, 2, 1]\n",
            "Expected output: [1, 2, 2, 3, 4, 4, 6, 6]\n",
            "Actual output: [1, 2, 2, 3, 4, 4, 6, 6]\n",
            "Match: True\n"
          ]
        }
      ],
      "source": [
        "nums0, output0 = test0['input']['nums'], test0['output']\n",
        "\n",
        "print('Input:', nums0)\n",
        "print('Expected output:', output0)\n",
        "result0 = merge_sort(nums0)\n",
        "print('Actual output:', result0)\n",
        "print('Match:', result0 == output0)"
      ]
    },
    {
      "cell_type": "markdown",
      "id": "0ef3683d",
      "metadata": {
        "id": "0ef3683d"
      },
      "source": [
        "Let's test all the cases using the `evaluate_test_cases` function from `jovian`."
      ]
    },
    {
      "cell_type": "code",
      "execution_count": 30,
      "id": "9df6dfef",
      "metadata": {
        "scrolled": true,
        "colab": {
          "base_uri": "https://localhost:8080/"
        },
        "id": "9df6dfef",
        "outputId": "c9006e2f-b900-4a75-8397-f3349e260b7f"
      },
      "outputs": [
        {
          "output_type": "stream",
          "name": "stdout",
          "text": [
            "\n",
            "\u001b[1mTEST CASE #0\u001b[0m\n",
            "\n",
            "Input:\n",
            "{'nums': [4, 2, 6, 3, 4, 6, 2, 1]}\n",
            "\n",
            "Expected Output:\n",
            "[1, 2, 2, 3, 4, 4, 6, 6]\n",
            "\n",
            "\n",
            "Actual Output:\n",
            "[1, 2, 2, 3, 4, 4, 6, 6]\n",
            "\n",
            "Execution Time:\n",
            "0.034 ms\n",
            "\n",
            "Test Result:\n",
            "\u001b[92mPASSED\u001b[0m\n",
            "\n",
            "\n",
            "\u001b[1mTEST CASE #1\u001b[0m\n",
            "\n",
            "Input:\n",
            "{'nums': [5, 2, 6, 1, 23, 7, -12, 12, -243, 0]}\n",
            "\n",
            "Expected Output:\n",
            "[-243, -12, 0, 1, 2, 5, 6, 7, 12, 23]\n",
            "\n",
            "\n",
            "Actual Output:\n",
            "[-243, -12, 0, 1, 2, 5, 6, 7, 12, 23]\n",
            "\n",
            "Execution Time:\n",
            "0.045 ms\n",
            "\n",
            "Test Result:\n",
            "\u001b[92mPASSED\u001b[0m\n",
            "\n",
            "\n",
            "\u001b[1mTEST CASE #2\u001b[0m\n",
            "\n",
            "Input:\n",
            "{'nums': [3, 5, 6, 8, 9, 10, 99]}\n",
            "\n",
            "Expected Output:\n",
            "[3, 5, 6, 8, 9, 10, 99]\n",
            "\n",
            "\n",
            "Actual Output:\n",
            "[3, 5, 6, 8, 9, 10, 99]\n",
            "\n",
            "Execution Time:\n",
            "0.021 ms\n",
            "\n",
            "Test Result:\n",
            "\u001b[92mPASSED\u001b[0m\n",
            "\n",
            "\n",
            "\u001b[1mTEST CASE #3\u001b[0m\n",
            "\n",
            "Input:\n",
            "{'nums': [99, 10, 9, 8, 6, 5, 3]}\n",
            "\n",
            "Expected Output:\n",
            "[3, 5, 6, 8, 9, 10, 99]\n",
            "\n",
            "\n",
            "Actual Output:\n",
            "[3, 5, 6, 8, 9, 10, 99]\n",
            "\n",
            "Execution Time:\n",
            "0.023 ms\n",
            "\n",
            "Test Result:\n",
            "\u001b[92mPASSED\u001b[0m\n",
            "\n",
            "\n",
            "\u001b[1mTEST CASE #4\u001b[0m\n",
            "\n",
            "Input:\n",
            "{'nums': [5, -12, 2, 6, 1, 23, 7, 7, -12, 6, 12, 1, -243, 1, 0]}\n",
            "\n",
            "Expected Output:\n",
            "[-243, -12, -12, 0, 1, 1, 1, 2, 5, 6, 6, 7, 7, 12, 23]\n",
            "\n",
            "\n",
            "Actual Output:\n",
            "[-243, -12, -12, 0, 1, 1, 1, 2, 5, 6, 6, 7, 7, 12, 23]\n",
            "\n",
            "Execution Time:\n",
            "0.064 ms\n",
            "\n",
            "Test Result:\n",
            "\u001b[92mPASSED\u001b[0m\n",
            "\n",
            "\n",
            "\u001b[1mTEST CASE #5\u001b[0m\n",
            "\n",
            "Input:\n",
            "{'nums': []}\n",
            "\n",
            "Expected Output:\n",
            "[]\n",
            "\n",
            "\n",
            "Actual Output:\n",
            "[]\n",
            "\n",
            "Execution Time:\n",
            "0.002 ms\n",
            "\n",
            "Test Result:\n",
            "\u001b[92mPASSED\u001b[0m\n",
            "\n",
            "\n",
            "\u001b[1mTEST CASE #6\u001b[0m\n",
            "\n",
            "Input:\n",
            "{'nums': [23]}\n",
            "\n",
            "Expected Output:\n",
            "[23]\n",
            "\n",
            "\n",
            "Actual Output:\n",
            "[23]\n",
            "\n",
            "Execution Time:\n",
            "0.002 ms\n",
            "\n",
            "Test Result:\n",
            "\u001b[92mPASSED\u001b[0m\n",
            "\n",
            "\n",
            "\u001b[1mTEST CASE #7\u001b[0m\n",
            "\n",
            "Input:\n",
            "{'nums': [42, 42, 42, 42, 42, 42, 42]}\n",
            "\n",
            "Expected Output:\n",
            "[42, 42, 42, 42, 42, 42, 42]\n",
            "\n",
            "\n",
            "Actual Output:\n",
            "[42, 42, 42, 42, 42, 42, 42]\n",
            "\n",
            "Execution Time:\n",
            "0.028 ms\n",
            "\n",
            "Test Result:\n",
            "\u001b[92mPASSED\u001b[0m\n",
            "\n",
            "\n",
            "\u001b[1mTEST CASE #8\u001b[0m\n",
            "\n",
            "Input:\n",
            "{'nums': [4194, 2979, 3193, 2730, 4873, 8165, 568, 8167, 2121, 9979, 24, 176, 4584, 6750, 2141, 5335...\n",
            "\n",
            "Expected Output:\n",
            "[0, 1, 2, 3, 4, 5, 6, 7, 8, 9, 10, 11, 12, 13, 14, 15, 16, 17, 18, 19, 20, 21, 22, 23, 24, 25, 26, 2...\n",
            "\n",
            "\n",
            "Actual Output:\n",
            "[0, 1, 2, 3, 4, 5, 6, 7, 8, 9, 10, 11, 12, 13, 14, 15, 16, 17, 18, 19, 20, 21, 22, 23, 24, 25, 26, 2...\n",
            "\n",
            "Execution Time:\n",
            "81.923 ms\n",
            "\n",
            "Test Result:\n",
            "\u001b[92mPASSED\u001b[0m\n",
            "\n",
            "\n",
            "\u001b[1mSUMMARY\u001b[0m\n",
            "\n",
            "TOTAL: 9, \u001b[92mPASSED\u001b[0m: 9, \u001b[91mFAILED\u001b[0m: 0\n"
          ]
        }
      ],
      "source": [
        "results = evaluate_test_cases(merge_sort, tests)"
      ]
    },
    {
      "cell_type": "markdown",
      "id": "aec1a299",
      "metadata": {
        "id": "aec1a299"
      },
      "source": [
        "All the test cases have passed! Our function works as expected.\n",
        "\n",
        "Notice the last test case, the merge sort function took just 50 milliseconds to sort 10,000 numbers, which took bubble sort about 12 seconds."
      ]
    },
    {
      "cell_type": "code",
      "execution_count": 31,
      "id": "9043025c",
      "metadata": {
        "colab": {
          "base_uri": "https://localhost:8080/",
          "height": 107
        },
        "id": "9043025c",
        "outputId": "7ac394c6-febb-444b-ca99-5d4e63a4988f"
      },
      "outputs": [
        {
          "output_type": "stream",
          "name": "stdout",
          "text": [
            "[jovian] Detected Colab notebook...\u001b[0m\n",
            "[jovian] Uploading colab notebook to Jovian...\u001b[0m\n",
            "Committed successfully! https://jovian.ai/prathamesh-kashelikar/python-sorting-divide-and-conquer\n"
          ]
        },
        {
          "output_type": "execute_result",
          "data": {
            "text/plain": [
              "'https://jovian.ai/prathamesh-kashelikar/python-sorting-divide-and-conquer'"
            ],
            "application/vnd.google.colaboratory.intrinsic+json": {
              "type": "string"
            }
          },
          "metadata": {},
          "execution_count": 31
        }
      ],
      "source": [
        "jovian.commit()"
      ]
    },
    {
      "cell_type": "markdown",
      "id": "6a9f018c",
      "metadata": {
        "id": "6a9f018c"
      },
      "source": [
        "## 9. Analyze the algorithm's complexity and identify inefficiencies\n",
        "\n",
        "Analyzing the complexity of recursive algorithms can be tricky. It helps to track and follow the chain of recursive calls. We'll add some print statements to our `merge_sort` and `merge_functions` to display the _tree_ of recursive function calls."
      ]
    },
    {
      "cell_type": "code",
      "execution_count": 32,
      "id": "61938074",
      "metadata": {
        "id": "61938074"
      },
      "outputs": [],
      "source": [
        "def merge(nums1, nums2, depth=0):\n",
        "    print('  '*depth, 'merge:', nums1, nums2)\n",
        "    i, j, merged = 0, 0, []\n",
        "    while i < len(nums1) and j < len(nums2):\n",
        "        if nums1[i] <= nums2[j]:\n",
        "            merged.append(nums1[i])\n",
        "            i += 1\n",
        "        else:\n",
        "            merged.append(nums2[j])\n",
        "            j += 1\n",
        "    return merged + nums1[i:] + nums2[j:]\n",
        "        \n",
        "def merge_sort(nums, depth=0):\n",
        "    print('  '*depth, 'merge_sort:', nums)\n",
        "    if len(nums) < 2: \n",
        "        return nums\n",
        "    mid = len(nums) // 2\n",
        "    return merge(merge_sort(nums[:mid], depth+1), \n",
        "                 merge_sort(nums[mid:], depth+1), \n",
        "                 depth+1)"
      ]
    },
    {
      "cell_type": "code",
      "execution_count": 33,
      "id": "f01b516a",
      "metadata": {
        "colab": {
          "base_uri": "https://localhost:8080/"
        },
        "id": "f01b516a",
        "outputId": "934d2589-3ddf-4da3-cdf0-d7d8c222e54d"
      },
      "outputs": [
        {
          "output_type": "stream",
          "name": "stdout",
          "text": [
            " merge_sort: [5, -12, 2, 6, 1, 23, 7, 7, -12]\n",
            "   merge_sort: [5, -12, 2, 6]\n",
            "     merge_sort: [5, -12]\n",
            "       merge_sort: [5]\n",
            "       merge_sort: [-12]\n",
            "       merge: [5] [-12]\n",
            "     merge_sort: [2, 6]\n",
            "       merge_sort: [2]\n",
            "       merge_sort: [6]\n",
            "       merge: [2] [6]\n",
            "     merge: [-12, 5] [2, 6]\n",
            "   merge_sort: [1, 23, 7, 7, -12]\n",
            "     merge_sort: [1, 23]\n",
            "       merge_sort: [1]\n",
            "       merge_sort: [23]\n",
            "       merge: [1] [23]\n",
            "     merge_sort: [7, 7, -12]\n",
            "       merge_sort: [7]\n",
            "       merge_sort: [7, -12]\n",
            "         merge_sort: [7]\n",
            "         merge_sort: [-12]\n",
            "         merge: [7] [-12]\n",
            "       merge: [7] [-12, 7]\n",
            "     merge: [1, 23] [-12, 7, 7]\n",
            "   merge: [-12, 2, 5, 6] [-12, 1, 7, 7, 23]\n"
          ]
        },
        {
          "output_type": "execute_result",
          "data": {
            "text/plain": [
              "[-12, -12, 1, 2, 5, 6, 7, 7, 23]"
            ]
          },
          "metadata": {},
          "execution_count": 33
        }
      ],
      "source": [
        "merge_sort([5, -12, 2, 6, 1, 23, 7, 7, -12])"
      ]
    },
    {
      "cell_type": "markdown",
      "id": "cfb73de4",
      "metadata": {
        "id": "cfb73de4"
      },
      "source": [
        "We can now see that each `merge_sort` call itself invokes `merge_sort` twice (but with an array half the size), and also invokes the `merge` function once to merge the two resulting arrays. The two calls to `merge_sort` themselves make two recursive calls followed by an invocation of `merge`. The division continues till we reach an list of size 1 or 0. Thus, the merge sort algorithm ultimately boils down to a series of `merge` operations performed on arrays of varying sizes. Inside the `merge` function we perform comparisons and add numbers to a new array.\n",
        "\n",
        "**Exercise:** Verify that time complexity of the merge operation is $O(n)$, where $n$ is the sum of the sizes of the two input lists. Hint: Count the number of comparisons.\n",
        "\n",
        "To find the overall complexity of `merge_sort`, we simply need to count how many times the `merge` function was invoked and the size of the input list for each invocation. Here's how all the subproblems can be visualized:\n",
        "\n",
        "\n",
        "![](https://i.imgur.com/j1IuS2t.png)\n",
        "\n",
        "Counting from the top and starting from 0, the $k^{th}$ level of the above tree involves $2^k$ invocations of `merge` with sublists of size roughly $n / 2^k$, where $n$ is the size of the original input list. Therefore the total number of comparisons at each level of the tree is $2^k * n/2^k = n$.\n",
        "\n",
        "Thus, if the height of the tree is $h$, the total number of comparisons is $n*h$. Since there are $n$ sublists of size 1 at the lowest level, it follows that $2^{(h-1)} = n$ i.e. $h = \\log n + 1$. Thus the time complexity of the merge sort algorithms is $O(n \\log n)$.\n",
        "\n",
        "As we already saw, it took just 50 ms to sort an array of 10,000 elements. Even an array of 1 million elements will take only a few seconds to be sorted.\n",
        "\n",
        "\n",
        "### Space Complexity\n",
        "\n",
        "\n",
        "\n",
        "\n",
        "To find the space complexity of merge sort, it helps to recall that a new list with equal to the sum of the sizes of the two lists is created in each invocation of `merge`. \n",
        "\n",
        "```\n",
        "i, j, merged = 0, 0, []\n",
        "while i < len(nums1) and j < len(nums2):\n",
        "    if nums1[i] <= nums2[j]:\n",
        "        merged.append(nums1[i])\n",
        "        i += 1\n",
        "    else:\n",
        "        merged.append(nums2[j])\n",
        "        j += 1\n",
        "```\n",
        "\n",
        "\n",
        "At first glance, it may seem that $O(n)$ space is required for each level of the tree, so the space complexity of merge sort is $O(n \\log n)$.\n",
        "\n",
        "![](https://i.imgur.com/KTbibGC.png)\n",
        "\n",
        "However, since the original sublists can be discarded after the `merge` operation, the additional space can be freed or reused for future merge calls. Thus, merge sort requires $O(n)$ additional space i.e. the space complexity is $O(n)$.\n",
        "\n",
        "\n",
        "There are several extensions and variations and extensions of merge sort:\n",
        "\n",
        "* K-way merge sort: https://en.wikipedia.org/wiki/K-way_merge_algorithm\n",
        "* Counting inversions in an array: https://www.geeksforgeeks.org/counting-inversions/\n",
        "* Merge sort and insertion sort hybrids: https://en.wikipedia.org/wiki/Timsort\n"
      ]
    },
    {
      "cell_type": "code",
      "execution_count": 34,
      "id": "95c80d3c",
      "metadata": {
        "colab": {
          "base_uri": "https://localhost:8080/",
          "height": 107
        },
        "id": "95c80d3c",
        "outputId": "dab8ff2d-b4c7-4ee3-d856-ef89dab97386"
      },
      "outputs": [
        {
          "output_type": "stream",
          "name": "stdout",
          "text": [
            "[jovian] Detected Colab notebook...\u001b[0m\n",
            "[jovian] Uploading colab notebook to Jovian...\u001b[0m\n",
            "Committed successfully! https://jovian.ai/prathamesh-kashelikar/python-sorting-divide-and-conquer\n"
          ]
        },
        {
          "output_type": "execute_result",
          "data": {
            "text/plain": [
              "'https://jovian.ai/prathamesh-kashelikar/python-sorting-divide-and-conquer'"
            ],
            "application/vnd.google.colaboratory.intrinsic+json": {
              "type": "string"
            }
          },
          "metadata": {},
          "execution_count": 34
        }
      ],
      "source": [
        "jovian.commit()"
      ]
    },
    {
      "cell_type": "markdown",
      "id": "5b49fa18",
      "metadata": {
        "id": "5b49fa18"
      },
      "source": [
        "## 10. Apply the right technique to overcome the inefficiency. Repeat Steps 3 to 6.\n",
        "\n",
        "The fact that merge sort requires allocating additional space as large as the input itself makes it somewhat slow in practice because memory allocation is far more expensive than comparisons or swapping.\n",
        "\n",
        "### Quicksort\n",
        "\n",
        "To overcome the space inefficiencies of merge sort, we'll study another divide-and-conquer based sorting algorithm called **quicksort**, which works as follows:\n",
        "\n",
        "1. If the list is empty or has just one element, return it. It's already sorted.\n",
        "2. Pick a random element from the list. This element is called a _pivot_.\n",
        "3. Reorder the list so that all elements with values less than or equal to the pivot come before the pivot, while all elements with values greater than the pivot come after it. This operation is called _partitioning_.\n",
        "4. The pivot element divides the array into two parts which can be sorted independently by making a recursive call to quicksort.\n",
        "\n",
        "![](https://images.deepai.org/glossary-terms/a5228ea07c794b468efd1b7f758b9ead/Quicksort.png)\n",
        "\n",
        "The key observation here is that after the partition, the pivot element is at its right place in the sorted array, and the two parts of the array can be sorted independently in-place.\n",
        "\n",
        "Here's an implementation of quicksort, assuming we already have a helper function called `partitions` which picks a pivot, partitions the array in-place, and returns the position of the pivot element."
      ]
    },
    {
      "cell_type": "code",
      "execution_count": 35,
      "id": "dd41de31",
      "metadata": {
        "id": "dd41de31"
      },
      "outputs": [],
      "source": [
        "def quicksort(nums, start=0, end=None):\n",
        "    # print('quicksort', nums, start, end)\n",
        "    if end is None:\n",
        "        nums = list(nums)\n",
        "        end = len(nums) - 1\n",
        "    \n",
        "    if start < end:\n",
        "        pivot = partition(nums, start, end)\n",
        "        quicksort(nums, start, pivot-1)\n",
        "        quicksort(nums, pivot+1, end)\n",
        "\n",
        "    return nums"
      ]
    },
    {
      "cell_type": "markdown",
      "id": "55cb6524",
      "metadata": {
        "id": "55cb6524"
      },
      "source": [
        "Here's how the partition operation works([source](https://medium.com/basecs/pivoting-to-understand-quicksort-part-1-75178dfb9313)):\n",
        "\n",
        "<img src=\"https://i.imgur.com/Igk7Kr4.png\" width=\"420\">\n",
        "\n",
        "\n",
        "Here's an implementation of partition, which uses the last element of the list as a pivot:"
      ]
    },
    {
      "cell_type": "code",
      "execution_count": 36,
      "id": "f73918ff",
      "metadata": {
        "id": "f73918ff"
      },
      "outputs": [],
      "source": [
        "def partition(nums, start=0, end=None):\n",
        "    # print('partition', nums, start, end)\n",
        "    if end is None:\n",
        "        end = len(nums) - 1\n",
        "    \n",
        "    # Initialize right and left pointers\n",
        "    l, r = start, end-1\n",
        "    \n",
        "    # Iterate while they're apart\n",
        "    while r > l:\n",
        "        # print('  ', nums, l, r)\n",
        "        # Increment left pointer if number is less or equal to pivot\n",
        "        if nums[l] <= nums[end]:\n",
        "            l += 1\n",
        "        \n",
        "        # Decrement right pointer if number is greater than pivot\n",
        "        elif nums[r] > nums[end]:\n",
        "            r -= 1\n",
        "        \n",
        "        # Two out-of-place elements found, swap them\n",
        "        else:\n",
        "            nums[l], nums[r] = nums[r], nums[l]\n",
        "    # print('  ', nums, l, r)\n",
        "    # Place the pivot between the two parts\n",
        "    if nums[l] > nums[end]:\n",
        "        nums[l], nums[end] = nums[end], nums[l]\n",
        "        return l\n",
        "    else:\n",
        "        return end"
      ]
    },
    {
      "cell_type": "markdown",
      "id": "cdd93dd9",
      "metadata": {
        "id": "cdd93dd9"
      },
      "source": [
        "Let's see the partition function in action:"
      ]
    },
    {
      "cell_type": "code",
      "execution_count": 37,
      "id": "3d72d170",
      "metadata": {
        "colab": {
          "base_uri": "https://localhost:8080/"
        },
        "id": "3d72d170",
        "outputId": "c857873e-f74c-4950-9341-a13634d9730c"
      },
      "outputs": [
        {
          "output_type": "stream",
          "name": "stdout",
          "text": [
            "[1, 0, 2, 3, 5, 11, 6] 3\n"
          ]
        }
      ],
      "source": [
        "l1 = [1, 5, 6, 2, 0, 11, 3]\n",
        "pivot = partition(l1)\n",
        "print(l1, pivot)"
      ]
    },
    {
      "cell_type": "markdown",
      "id": "22648d15",
      "metadata": {
        "id": "22648d15"
      },
      "source": [
        "As expected the list was partitioned using `3` as the pivot element, which finally ends up at the index `2` within the partitioned list.\n",
        "\n",
        "**Exercise:** Add print statements inside the partition function to display the list, the left pointer and the right pointer at the beginning and end of every loop, to study how the partitioning works."
      ]
    },
    {
      "cell_type": "code",
      "execution_count": null,
      "id": "35e957f3",
      "metadata": {
        "id": "35e957f3"
      },
      "outputs": [],
      "source": [
        ""
      ]
    },
    {
      "cell_type": "markdown",
      "id": "160ca271",
      "metadata": {
        "id": "160ca271"
      },
      "source": [
        "We can now see quicksort in action:"
      ]
    },
    {
      "cell_type": "code",
      "execution_count": 38,
      "id": "ca39e8d6",
      "metadata": {
        "colab": {
          "base_uri": "https://localhost:8080/"
        },
        "id": "ca39e8d6",
        "outputId": "fee7f797-847f-4235-b081-00e71bc099e2"
      },
      "outputs": [
        {
          "output_type": "stream",
          "name": "stdout",
          "text": [
            "Input: [4, 2, 6, 3, 4, 6, 2, 1]\n",
            "Expected output: [1, 2, 2, 3, 4, 4, 6, 6]\n",
            "Actual output: [1, 2, 2, 3, 4, 4, 6, 6]\n",
            "Match: True\n"
          ]
        }
      ],
      "source": [
        "nums0, output0 = test0['input']['nums'], test0['output']\n",
        "\n",
        "print('Input:', nums0)\n",
        "print('Expected output:', output0)\n",
        "result0 = quicksort(nums0)\n",
        "print('Actual output:', result0)\n",
        "print('Match:', result0 == output0)"
      ]
    },
    {
      "cell_type": "markdown",
      "id": "bf04a55a",
      "metadata": {
        "id": "bf04a55a"
      },
      "source": [
        "Let's test all the cases using the `evaluate_test_cases` function from `jovian`."
      ]
    },
    {
      "cell_type": "code",
      "execution_count": 39,
      "id": "efe72f0e",
      "metadata": {
        "scrolled": true,
        "colab": {
          "base_uri": "https://localhost:8080/"
        },
        "id": "efe72f0e",
        "outputId": "a8e6e13a-384a-4565-94a7-5f7c7a32e9b5"
      },
      "outputs": [
        {
          "output_type": "stream",
          "name": "stdout",
          "text": [
            "\n",
            "\u001b[1mTEST CASE #0\u001b[0m\n",
            "\n",
            "Input:\n",
            "{'nums': [4, 2, 6, 3, 4, 6, 2, 1]}\n",
            "\n",
            "Expected Output:\n",
            "[1, 2, 2, 3, 4, 4, 6, 6]\n",
            "\n",
            "\n",
            "Actual Output:\n",
            "[1, 2, 2, 3, 4, 4, 6, 6]\n",
            "\n",
            "Execution Time:\n",
            "0.021 ms\n",
            "\n",
            "Test Result:\n",
            "\u001b[92mPASSED\u001b[0m\n",
            "\n",
            "\n",
            "\u001b[1mTEST CASE #1\u001b[0m\n",
            "\n",
            "Input:\n",
            "{'nums': [5, 2, 6, 1, 23, 7, -12, 12, -243, 0]}\n",
            "\n",
            "Expected Output:\n",
            "[-243, -12, 0, 1, 2, 5, 6, 7, 12, 23]\n",
            "\n",
            "\n",
            "Actual Output:\n",
            "[-243, -12, 0, 1, 2, 5, 6, 7, 12, 23]\n",
            "\n",
            "Execution Time:\n",
            "0.023 ms\n",
            "\n",
            "Test Result:\n",
            "\u001b[92mPASSED\u001b[0m\n",
            "\n",
            "\n",
            "\u001b[1mTEST CASE #2\u001b[0m\n",
            "\n",
            "Input:\n",
            "{'nums': [3, 5, 6, 8, 9, 10, 99]}\n",
            "\n",
            "Expected Output:\n",
            "[3, 5, 6, 8, 9, 10, 99]\n",
            "\n",
            "\n",
            "Actual Output:\n",
            "[3, 5, 6, 8, 9, 10, 99]\n",
            "\n",
            "Execution Time:\n",
            "0.025 ms\n",
            "\n",
            "Test Result:\n",
            "\u001b[92mPASSED\u001b[0m\n",
            "\n",
            "\n",
            "\u001b[1mTEST CASE #3\u001b[0m\n",
            "\n",
            "Input:\n",
            "{'nums': [99, 10, 9, 8, 6, 5, 3]}\n",
            "\n",
            "Expected Output:\n",
            "[3, 5, 6, 8, 9, 10, 99]\n",
            "\n",
            "\n",
            "Actual Output:\n",
            "[3, 5, 6, 8, 9, 10, 99]\n",
            "\n",
            "Execution Time:\n",
            "0.018 ms\n",
            "\n",
            "Test Result:\n",
            "\u001b[92mPASSED\u001b[0m\n",
            "\n",
            "\n",
            "\u001b[1mTEST CASE #4\u001b[0m\n",
            "\n",
            "Input:\n",
            "{'nums': [5, -12, 2, 6, 1, 23, 7, 7, -12, 6, 12, 1, -243, 1, 0]}\n",
            "\n",
            "Expected Output:\n",
            "[-243, -12, -12, 0, 1, 1, 1, 2, 5, 6, 6, 7, 7, 12, 23]\n",
            "\n",
            "\n",
            "Actual Output:\n",
            "[-243, -12, -12, 0, 1, 1, 1, 2, 5, 6, 6, 7, 7, 12, 23]\n",
            "\n",
            "Execution Time:\n",
            "0.033 ms\n",
            "\n",
            "Test Result:\n",
            "\u001b[92mPASSED\u001b[0m\n",
            "\n",
            "\n",
            "\u001b[1mTEST CASE #5\u001b[0m\n",
            "\n",
            "Input:\n",
            "{'nums': []}\n",
            "\n",
            "Expected Output:\n",
            "[]\n",
            "\n",
            "\n",
            "Actual Output:\n",
            "[]\n",
            "\n",
            "Execution Time:\n",
            "0.003 ms\n",
            "\n",
            "Test Result:\n",
            "\u001b[92mPASSED\u001b[0m\n",
            "\n",
            "\n",
            "\u001b[1mTEST CASE #6\u001b[0m\n",
            "\n",
            "Input:\n",
            "{'nums': [23]}\n",
            "\n",
            "Expected Output:\n",
            "[23]\n",
            "\n",
            "\n",
            "Actual Output:\n",
            "[23]\n",
            "\n",
            "Execution Time:\n",
            "0.002 ms\n",
            "\n",
            "Test Result:\n",
            "\u001b[92mPASSED\u001b[0m\n",
            "\n",
            "\n",
            "\u001b[1mTEST CASE #7\u001b[0m\n",
            "\n",
            "Input:\n",
            "{'nums': [42, 42, 42, 42, 42, 42, 42]}\n",
            "\n",
            "Expected Output:\n",
            "[42, 42, 42, 42, 42, 42, 42]\n",
            "\n",
            "\n",
            "Actual Output:\n",
            "[42, 42, 42, 42, 42, 42, 42]\n",
            "\n",
            "Execution Time:\n",
            "0.014 ms\n",
            "\n",
            "Test Result:\n",
            "\u001b[92mPASSED\u001b[0m\n",
            "\n",
            "\n",
            "\u001b[1mTEST CASE #8\u001b[0m\n",
            "\n",
            "Input:\n",
            "{'nums': [4194, 2979, 3193, 2730, 4873, 8165, 568, 8167, 2121, 9979, 24, 176, 4584, 6750, 2141, 5335...\n",
            "\n",
            "Expected Output:\n",
            "[0, 1, 2, 3, 4, 5, 6, 7, 8, 9, 10, 11, 12, 13, 14, 15, 16, 17, 18, 19, 20, 21, 22, 23, 24, 25, 26, 2...\n",
            "\n",
            "\n",
            "Actual Output:\n",
            "[0, 1, 2, 3, 4, 5, 6, 7, 8, 9, 10, 11, 12, 13, 14, 15, 16, 17, 18, 19, 20, 21, 22, 23, 24, 25, 26, 2...\n",
            "\n",
            "Execution Time:\n",
            "57.202 ms\n",
            "\n",
            "Test Result:\n",
            "\u001b[92mPASSED\u001b[0m\n",
            "\n",
            "\n",
            "\u001b[1mSUMMARY\u001b[0m\n",
            "\n",
            "TOTAL: 9, \u001b[92mPASSED\u001b[0m: 9, \u001b[91mFAILED\u001b[0m: 0\n"
          ]
        }
      ],
      "source": [
        "from jovian.pythondsa import evaluate_test_cases\n",
        "\n",
        "results = evaluate_test_cases(quicksort, tests)"
      ]
    },
    {
      "cell_type": "markdown",
      "id": "10b4a854",
      "metadata": {
        "id": "10b4a854"
      },
      "source": [
        "All the test cases have passed successfully! You will also notice that is also marginally faster than merge sort for larger lists."
      ]
    },
    {
      "cell_type": "markdown",
      "id": "9844a581",
      "metadata": {
        "id": "9844a581"
      },
      "source": [
        "### Time Complexity of Quicksort\n",
        "\n",
        "If we assume that \n",
        "\n",
        "\n",
        "Best case partitioning:\n",
        "\n",
        "<img src=\"https://i.imgur.com/DgvYvnG.png\" width=\"480\">\n",
        "\n",
        "\n",
        "If we partition the list into two nearly equal parts, then the complexity analysis is similar to that of merge sort and quicksort has the complexity $O(n \\log n)$. This is called the average-case complexity.\n",
        "\n",
        "\n",
        "Worst case partitioning:\n",
        "\n",
        "\n",
        "<img src=\"https://cdn.kastatic.org/ka-perseus-images/7da2ac32779bef669a6f05decb62f219a9132158.png\" width=\"480\">\n",
        "\n",
        "In this case, the partition is called `n` times with lists of sizes `n`, `n-1`... so that total comparisions are $n + (n-1) + (n-2) + ... + 2 + 1 = n * (n-1) / 2$. So the worst-case complexity of quicksort is $O(n^2)$.\n",
        "\n",
        "**Exercise:** Verify that quicksort requires $O(1)$ additional space.\n",
        "\n",
        "Despite the quadratic worst case time complexity Quicksort is preferred in many situations because its running time is closer to $O(n \\log n)$ in practice, especially with a good strategy for picking a pivot. Some these are:\n",
        "\n",
        "- [Picking a random pivot](https://cs.stackexchange.com/questions/7582/what-is-the-advantage-of-randomized-quicksort)\n",
        "- [Picking median of medians](https://en.wikipedia.org/wiki/Median_of_medians)\n",
        "\n",
        "\n",
        "Here are some other problems you can solve using the partitioning strategy of Quicksort: https://www.techiedelight.com/problems-solved-using-partitioning-logic-quicksort/\n",
        "\n",
        "\n",
        "\n"
      ]
    },
    {
      "cell_type": "code",
      "execution_count": 40,
      "id": "4c93b992",
      "metadata": {
        "colab": {
          "base_uri": "https://localhost:8080/",
          "height": 107
        },
        "id": "4c93b992",
        "outputId": "87100392-40ec-4cb7-cd79-cb70d3c8ceea"
      },
      "outputs": [
        {
          "output_type": "stream",
          "name": "stdout",
          "text": [
            "[jovian] Detected Colab notebook...\u001b[0m\n",
            "[jovian] Uploading colab notebook to Jovian...\u001b[0m\n",
            "Committed successfully! https://jovian.ai/prathamesh-kashelikar/python-sorting-divide-and-conquer\n"
          ]
        },
        {
          "output_type": "execute_result",
          "data": {
            "text/plain": [
              "'https://jovian.ai/prathamesh-kashelikar/python-sorting-divide-and-conquer'"
            ],
            "application/vnd.google.colaboratory.intrinsic+json": {
              "type": "string"
            }
          },
          "metadata": {},
          "execution_count": 40
        }
      ],
      "source": [
        "jovian.commit()"
      ]
    },
    {
      "cell_type": "markdown",
      "id": "b7d1be6e",
      "metadata": {
        "id": "b7d1be6e"
      },
      "source": [
        "## Custom Comparison Functions\n",
        "\n",
        "Let's return to our original problem statement now.\n",
        "\n",
        "> **QUESTION 1**: You're working on a new feature on Jovian called \"Top Notebooks of the Week\". Write a function to sort a list of notebooks in decreasing order of likes. Keep in mind that up to millions of notebooks  can be created every week, so your function needs to be as efficient as possible.\n",
        "\n",
        "First, we need to sort objects, not just numbers. Also, we want to sort them in the descending order of likes. To achieve this, all we need is a custom comparison function to compare two notebooks.\n",
        "\n",
        "Let's create a class that captures basic information about notebooks."
      ]
    },
    {
      "cell_type": "code",
      "execution_count": 41,
      "id": "b5850930",
      "metadata": {
        "id": "b5850930"
      },
      "outputs": [],
      "source": [
        "class Notebook:\n",
        "    def __init__(self, title, username, likes):\n",
        "        self.title, self.username, self.likes = title, username, likes\n",
        "        \n",
        "    def __repr__(self):\n",
        "        return 'Notebook <\"{}/{}\", {} likes>'.format(self.username, self.title, self.likes)"
      ]
    },
    {
      "cell_type": "markdown",
      "id": "bdb3058d",
      "metadata": {
        "id": "bdb3058d"
      },
      "source": [
        "Let's create some sample notebooks"
      ]
    },
    {
      "cell_type": "code",
      "execution_count": 42,
      "id": "c69f4c51",
      "metadata": {
        "id": "c69f4c51"
      },
      "outputs": [],
      "source": [
        "nb0 = Notebook('pytorch-basics', 'aakashns', 373)\n",
        "nb1 = Notebook('linear-regression', 'siddhant', 532)\n",
        "nb2 = Notebook('logistic-regression', 'vikas', 31)\n",
        "nb3 = Notebook('feedforward-nn', 'sonaksh', 94)\n",
        "nb4 = Notebook('cifar10-cnn', 'biraj', 2)\n",
        "nb5 = Notebook('cifar10-resnet', 'tanya', 29)\n",
        "nb6 = Notebook('anime-gans', 'hemanth', 80)\n",
        "nb7 = Notebook('python-fundamentals', 'vishal', 136)\n",
        "nb8 = Notebook('python-functions', 'aakashns', 74)\n",
        "nb9 = Notebook('python-numpy', 'siddhant', 92)"
      ]
    },
    {
      "cell_type": "code",
      "execution_count": 43,
      "id": "7920c074",
      "metadata": {
        "id": "7920c074"
      },
      "outputs": [],
      "source": [
        "notebooks = [nb0, nb1, nb2, nb3, nb4, nb5,nb6, nb7, nb8, nb9]"
      ]
    },
    {
      "cell_type": "code",
      "execution_count": 44,
      "id": "db68a5be",
      "metadata": {
        "colab": {
          "base_uri": "https://localhost:8080/"
        },
        "id": "db68a5be",
        "outputId": "55e165ca-4acb-4140-fec6-377f4f244485"
      },
      "outputs": [
        {
          "output_type": "execute_result",
          "data": {
            "text/plain": [
              "[Notebook <\"aakashns/pytorch-basics\", 373 likes>,\n",
              " Notebook <\"siddhant/linear-regression\", 532 likes>,\n",
              " Notebook <\"vikas/logistic-regression\", 31 likes>,\n",
              " Notebook <\"sonaksh/feedforward-nn\", 94 likes>,\n",
              " Notebook <\"biraj/cifar10-cnn\", 2 likes>,\n",
              " Notebook <\"tanya/cifar10-resnet\", 29 likes>,\n",
              " Notebook <\"hemanth/anime-gans\", 80 likes>,\n",
              " Notebook <\"vishal/python-fundamentals\", 136 likes>,\n",
              " Notebook <\"aakashns/python-functions\", 74 likes>,\n",
              " Notebook <\"siddhant/python-numpy\", 92 likes>]"
            ]
          },
          "metadata": {},
          "execution_count": 44
        }
      ],
      "source": [
        "notebooks"
      ]
    },
    {
      "cell_type": "markdown",
      "id": "ac1785c5",
      "metadata": {
        "id": "ac1785c5"
      },
      "source": [
        "Next, we'll define a custom comparison function for comparing two notebooks. It will return the strings `'lesser'`, `'equal'` or `'greater'` to establish order between the two objects."
      ]
    },
    {
      "cell_type": "code",
      "execution_count": 45,
      "id": "52cd4f43",
      "metadata": {
        "id": "52cd4f43"
      },
      "outputs": [],
      "source": [
        "def compare_likes(nb1, nb2):\n",
        "    if nb1.likes > nb2.likes:\n",
        "        return 'lesser'\n",
        "    elif nb1.likes == nb2.likes:\n",
        "        return 'equal'\n",
        "    elif nb1.likes < nb2.likes:\n",
        "        return 'greater'"
      ]
    },
    {
      "cell_type": "markdown",
      "id": "4486d876",
      "metadata": {
        "id": "4486d876"
      },
      "source": [
        "Note that we say `nb1` is _lesser_ than `nb2` if it has higher likes, because we want to sort the notebooks in decreasing order of likes.\n",
        "\n",
        "Here's an implementation of merge sort which accepts a custom comparison function."
      ]
    },
    {
      "cell_type": "code",
      "execution_count": 46,
      "id": "07c97bd8",
      "metadata": {
        "id": "07c97bd8"
      },
      "outputs": [],
      "source": [
        "def default_compare(x, y):\n",
        "    if x < y:\n",
        "        return 'less'\n",
        "    elif x == y:\n",
        "        return 'equal'\n",
        "    else:\n",
        "        return 'greater'\n",
        "\n",
        "def merge_sort(objs, compare=default_compare):\n",
        "    if len(objs) < 2:\n",
        "        return objs\n",
        "    mid = len(objs) // 2\n",
        "    return merge(merge_sort(objs[:mid], compare), \n",
        "                 merge_sort(objs[mid:], compare), \n",
        "                 compare)\n",
        "\n",
        "def merge(left, right, compare):\n",
        "    i, j, merged = 0, 0, []\n",
        "    while i < len(left) and j < len(right):\n",
        "        result = compare(left[i], right[j])\n",
        "        if result == 'lesser' or result == 'equal':\n",
        "            merged.append(left[i])\n",
        "            i += 1\n",
        "        else:\n",
        "            merged.append(right[j])\n",
        "            j += 1\n",
        "    return merged + left[i:] + right[j:]"
      ]
    },
    {
      "cell_type": "code",
      "execution_count": 47,
      "id": "7f92fd4d",
      "metadata": {
        "id": "7f92fd4d"
      },
      "outputs": [],
      "source": [
        "sorted_notebooks = merge_sort(notebooks, compare_likes)"
      ]
    },
    {
      "cell_type": "code",
      "execution_count": 48,
      "id": "ee0af196",
      "metadata": {
        "colab": {
          "base_uri": "https://localhost:8080/"
        },
        "id": "ee0af196",
        "outputId": "bf0c67ff-45fb-4a3b-902d-b4f3bbb546df"
      },
      "outputs": [
        {
          "output_type": "execute_result",
          "data": {
            "text/plain": [
              "[Notebook <\"siddhant/linear-regression\", 532 likes>,\n",
              " Notebook <\"aakashns/pytorch-basics\", 373 likes>,\n",
              " Notebook <\"vishal/python-fundamentals\", 136 likes>,\n",
              " Notebook <\"sonaksh/feedforward-nn\", 94 likes>,\n",
              " Notebook <\"siddhant/python-numpy\", 92 likes>,\n",
              " Notebook <\"hemanth/anime-gans\", 80 likes>,\n",
              " Notebook <\"aakashns/python-functions\", 74 likes>,\n",
              " Notebook <\"vikas/logistic-regression\", 31 likes>,\n",
              " Notebook <\"tanya/cifar10-resnet\", 29 likes>,\n",
              " Notebook <\"biraj/cifar10-cnn\", 2 likes>]"
            ]
          },
          "metadata": {},
          "execution_count": 48
        }
      ],
      "source": [
        "sorted_notebooks"
      ]
    },
    {
      "cell_type": "markdown",
      "id": "c80aa5de",
      "metadata": {
        "id": "c80aa5de"
      },
      "source": [
        "As you can see, the notebooks are now sorted by likes. Since we have written a generic `merge_sort` function that works with any compare function, we can also use it to sort the notebooks by title."
      ]
    },
    {
      "cell_type": "code",
      "execution_count": 49,
      "id": "ebb9ef65",
      "metadata": {
        "id": "ebb9ef65"
      },
      "outputs": [],
      "source": [
        "def compare_titles(nb1, nb2):\n",
        "    if nb1.title < nb2.title:\n",
        "        return 'lesser'\n",
        "    elif nb1.title == nb2.title:\n",
        "        return 'equal'\n",
        "    elif nb1.title > nb2.title:\n",
        "        return 'greater'"
      ]
    },
    {
      "cell_type": "code",
      "execution_count": 50,
      "id": "d7166568",
      "metadata": {
        "colab": {
          "base_uri": "https://localhost:8080/"
        },
        "id": "d7166568",
        "outputId": "1e7b8596-7f5d-4460-94f5-4620c0b265a4"
      },
      "outputs": [
        {
          "output_type": "execute_result",
          "data": {
            "text/plain": [
              "[Notebook <\"hemanth/anime-gans\", 80 likes>,\n",
              " Notebook <\"biraj/cifar10-cnn\", 2 likes>,\n",
              " Notebook <\"tanya/cifar10-resnet\", 29 likes>,\n",
              " Notebook <\"sonaksh/feedforward-nn\", 94 likes>,\n",
              " Notebook <\"siddhant/linear-regression\", 532 likes>,\n",
              " Notebook <\"vikas/logistic-regression\", 31 likes>,\n",
              " Notebook <\"aakashns/python-functions\", 74 likes>,\n",
              " Notebook <\"vishal/python-fundamentals\", 136 likes>,\n",
              " Notebook <\"siddhant/python-numpy\", 92 likes>,\n",
              " Notebook <\"aakashns/pytorch-basics\", 373 likes>]"
            ]
          },
          "metadata": {},
          "execution_count": 50
        }
      ],
      "source": [
        "merge_sort(notebooks, compare_titles)"
      ]
    },
    {
      "cell_type": "markdown",
      "id": "60a1e087",
      "metadata": {
        "id": "60a1e087"
      },
      "source": [
        "**Exercise:** Implement and test generic versions of bubble sort, insertion sort and quicksort using the empty cells below."
      ]
    },
    {
      "cell_type": "code",
      "execution_count": null,
      "id": "aceeb9d6",
      "metadata": {
        "id": "aceeb9d6"
      },
      "outputs": [],
      "source": [
        ""
      ]
    },
    {
      "cell_type": "code",
      "execution_count": null,
      "id": "4a771dd1",
      "metadata": {
        "id": "4a771dd1"
      },
      "outputs": [],
      "source": [
        ""
      ]
    },
    {
      "cell_type": "code",
      "execution_count": null,
      "id": "f342d39f",
      "metadata": {
        "id": "f342d39f"
      },
      "outputs": [],
      "source": [
        ""
      ]
    },
    {
      "cell_type": "markdown",
      "id": "5c5b18fe",
      "metadata": {
        "id": "5c5b18fe"
      },
      "source": [
        "Let's save our work before continuing."
      ]
    },
    {
      "cell_type": "code",
      "execution_count": 52,
      "id": "9a5c94a9",
      "metadata": {
        "colab": {
          "base_uri": "https://localhost:8080/",
          "height": 107
        },
        "id": "9a5c94a9",
        "outputId": "908a0b49-fe92-457d-f69f-dcb8bf033125"
      },
      "outputs": [
        {
          "output_type": "stream",
          "name": "stdout",
          "text": [
            "[jovian] Detected Colab notebook...\u001b[0m\n",
            "[jovian] Uploading colab notebook to Jovian...\u001b[0m\n",
            "Committed successfully! https://jovian.ai/prathamesh-kashelikar/python-sorting-divide-and-conquer\n"
          ]
        },
        {
          "output_type": "execute_result",
          "data": {
            "text/plain": [
              "'https://jovian.ai/prathamesh-kashelikar/python-sorting-divide-and-conquer'"
            ],
            "application/vnd.google.colaboratory.intrinsic+json": {
              "type": "string"
            }
          },
          "metadata": {},
          "execution_count": 52
        }
      ],
      "source": [
        "jovian.commit()"
      ]
    },
    {
      "cell_type": "markdown",
      "id": "a8b6e546",
      "metadata": {
        "id": "a8b6e546"
      },
      "source": [
        "## Summary and Exercises\n",
        "\n",
        "We've covered the following sorting algorithms in this tutorial:\n",
        "\n",
        "1. Bubble sort\n",
        "2. Insertion sort\n",
        "3. Merge sort\n",
        "4. Quick sort\n",
        "\n",
        "There are several other sorting algorithms, and most languages provide library functions for sorting that use a hybrid approach depending on the size and type of element in the list/array.\n",
        "\n",
        "\n",
        "Try out some problems on sorting and divide-n-conquer here:\n",
        "\n",
        "* https://leetcode.com/tag/sort/\n",
        "* https://www.techiedelight.com/sorting-interview-questions/\n",
        "* [HackerRank](https://www.hackerrank.com/domains/algorithms?filters%5Bsubdomains%5D%5B%5D=arrays-and-sorting)\n",
        "* https://leetcode.com/tag/divide-and-conquer/\n",
        "* https://www.geeksforgeeks.org/divide-and-conquer/\n",
        "\n",
        "Use this problem solving template: https://jovian.ai/aakashns/python-problem-solving-template"
      ]
    },
    {
      "cell_type": "code",
      "execution_count": 51,
      "id": "1779beae",
      "metadata": {
        "id": "1779beae"
      },
      "outputs": [],
      "source": [
        ""
      ]
    }
  ],
  "metadata": {
    "kernelspec": {
      "display_name": "Python 3 (ipykernel)",
      "language": "python",
      "name": "python3"
    },
    "language_info": {
      "codemirror_mode": {
        "name": "ipython",
        "version": 3
      },
      "file_extension": ".py",
      "mimetype": "text/x-python",
      "name": "python",
      "nbconvert_exporter": "python",
      "pygments_lexer": "ipython3",
      "version": "3.9.6"
    },
    "colab": {
      "name": "python-sorting-divide-and-conquer.ipynb",
      "provenance": [],
      "include_colab_link": true
    }
  },
  "nbformat": 4,
  "nbformat_minor": 5
}